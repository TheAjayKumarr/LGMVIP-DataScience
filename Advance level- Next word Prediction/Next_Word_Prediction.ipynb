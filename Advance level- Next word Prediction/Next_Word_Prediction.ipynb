{
  "cells": [
    {
      "cell_type": "code",
      "execution_count": 3,
      "metadata": {
        "id": "HCV7f8THJIdw"
      },
      "outputs": [],
      "source": [
        "#Importing packages\n",
        "import numpy as np\n",
        "np.random.seed(42)\n",
        "import tensorflow as tf\n",
        "tf.random.set_seed(42)\n",
        "import keras.models\n",
        "\n",
        "from keras.models import Sequential, load_model\n",
        "from keras.layers import Dense, Activation\n",
        "from keras.layers import LSTM, Dropout\n",
        "from keras.layers import TimeDistributed\n",
        "from keras.layers import Dense, Activation, Dropout, RepeatVector\n",
        "from keras.optimizers import  RMSprop\n",
        "import matplotlib.pyplot as plt\n",
        "import pickle\n",
        "import heapq"
      ]
    },
    {
      "cell_type": "code",
      "execution_count": 5,
      "metadata": {
        "colab": {
          "base_uri": "https://localhost:8080/"
        },
        "id": "BfB6ldLMJ-iE",
        "outputId": "d055c437-1620-4daf-8fc9-710390581874"
      },
      "outputs": [
        {
          "name": "stdout",
          "output_type": "stream",
          "text": [
            "corpus length: 581888\n"
          ]
        }
      ],
      "source": [
        "#Loading the data\n",
        "path = '1661-0.txt'\n",
        "text = open(path,encoding = \"utf8\").read().lower()\n",
        "print('corpus length:', len(text))"
      ]
    },
    {
      "cell_type": "code",
      "execution_count": 6,
      "metadata": {
        "colab": {
          "base_uri": "https://localhost:8080/"
        },
        "id": "nAtMInpKKh3x",
        "outputId": "e3ac59ae-aa6f-4480-e033-a08fed447a71"
      },
      "outputs": [
        {
          "name": "stdout",
          "output_type": "stream",
          "text": [
            "unique chars: 73\n"
          ]
        }
      ],
      "source": [
        "#Data Preprocessing\n",
        "character = sorted(list(set(text)))\n",
        "char_indices = dict((c, i) for i, c in enumerate(character))\n",
        "indices_char = dict((i, c) for i, c in enumerate(character))\n",
        " \n",
        "print(f'unique chars: {len(character)}')"
      ]
    },
    {
      "cell_type": "code",
      "execution_count": 7,
      "metadata": {
        "colab": {
          "base_uri": "https://localhost:8080/"
        },
        "id": "gbc6kCYOKmgK",
        "outputId": "4acf1d17-e1a0-4105-889c-0ae4cb456cf6"
      },
      "outputs": [
        {
          "name": "stdout",
          "output_type": "stream",
          "text": [
            "num training examples: 193950\n"
          ]
        }
      ],
      "source": [
        "#chunk 40 characters with 3 sequences\n",
        "seq_len = 40\n",
        "step = 3\n",
        "sentences = []\n",
        "next_chars = []\n",
        "for i in range(0, len(text) - seq_len, step):\n",
        "    sentences.append(text[i: i + seq_len ])\n",
        "    next_chars.append(text[i + seq_len])\n",
        "print(f'num training examples: {len(sentences)}')"
      ]
    },
    {
      "cell_type": "code",
      "execution_count": 8,
      "metadata": {
        "colab": {
          "base_uri": "https://localhost:8080/",
          "height": 165
        },
        "id": "GWTdMVuJKoop",
        "outputId": "94ff48ec-885c-4863-ecd0-f78d523976b3"
      },
      "outputs": [
        {
          "data": {
            "text/plain": [
              "'e'"
            ]
          },
          "execution_count": 8,
          "metadata": {},
          "output_type": "execute_result"
        }
      ],
      "source": [
        "# generating our features and labels\n",
        "#one hot encoding\n",
        "X = np.zeros((len(sentences), seq_len, len(character)), dtype=bool)\n",
        "y = np.zeros((len(sentences), len(character)), dtype=bool)\n",
        "for i, sentence in enumerate(sentences):\n",
        "    for t, char in enumerate(sentence):\n",
        "        X[i, t, char_indices[char]] = 1\n",
        "    y[i, char_indices[next_chars[i]]] = 1\n",
        "\n",
        "sentences[124]\n",
        "next_chars[100]"
      ]
    },
    {
      "cell_type": "code",
      "execution_count": 28,
      "metadata": {
        "colab": {
          "base_uri": "https://localhost:8080/"
        },
        "id": "BAIB8hsuKuxp",
        "outputId": "e52b59d8-7dcf-4864-e68f-4b22e14bba2d"
      },
      "outputs": [
        {
          "data": {
            "text/plain": [
              "array([False, False, False, False, False, False, False, False, False,\n",
              "       False, False, False, False, False, False, False, False, False,\n",
              "       False, False, False, False, False, False, False, False, False,\n",
              "       False, False, False, False, False, False, False, False, False,\n",
              "       False, False, False, False, False, False, False, False, False,\n",
              "       False, False, False, False, False, False, False, False, False,\n",
              "       False, False, False, False, False, False, False, False, False,\n",
              "       False, False, False, False, False, False, False, False, False,\n",
              "        True])"
            ]
          },
          "execution_count": 28,
          "metadata": {},
          "output_type": "execute_result"
        }
      ],
      "source": [
        "#one hot encoded data\n",
        "X[0][0]"
      ]
    },
    {
      "cell_type": "code",
      "execution_count": 29,
      "metadata": {
        "colab": {
          "base_uri": "https://localhost:8080/"
        },
        "id": "slxg3B0oKx1N",
        "outputId": "926b06fa-1f9b-46d2-bb94-2ad54168729d"
      },
      "outputs": [
        {
          "data": {
            "text/plain": [
              "array([False, False, False, False, False, False, False, False, False,\n",
              "       False, False, False, False, False, False, False, False, False,\n",
              "       False, False, False, False, False, False, False, False, False,\n",
              "       False, False, False, False, False, False, False, False, False,\n",
              "       False, False, False, False, False, False, False, False, False,\n",
              "       False, False, False, False, False, False,  True, False, False,\n",
              "       False, False, False, False, False, False, False, False, False,\n",
              "       False, False, False, False, False, False, False, False, False,\n",
              "       False])"
            ]
          },
          "execution_count": 29,
          "metadata": {},
          "output_type": "execute_result"
        }
      ],
      "source": [
        "#one hot encoded data\n",
        "y[0]"
      ]
    },
    {
      "cell_type": "code",
      "execution_count": 30,
      "metadata": {
        "colab": {
          "base_uri": "https://localhost:8080/"
        },
        "id": "mlweMpDtKz3a",
        "outputId": "f3315b6a-900e-4c79-ae49-fcd22a7f838e"
      },
      "outputs": [
        {
          "data": {
            "text/plain": [
              "(193950, 40, 73)"
            ]
          },
          "execution_count": 30,
          "metadata": {},
          "output_type": "execute_result"
        }
      ],
      "source": [
        "X.shape"
      ]
    },
    {
      "cell_type": "code",
      "execution_count": 31,
      "metadata": {
        "colab": {
          "base_uri": "https://localhost:8080/"
        },
        "id": "JMdpGRBcK2Gp",
        "outputId": "3832b4e7-70aa-4a79-bd52-16246d3d01dc"
      },
      "outputs": [
        {
          "data": {
            "text/plain": [
              "(193950, 73)"
            ]
          },
          "execution_count": 31,
          "metadata": {},
          "output_type": "execute_result"
        }
      ],
      "source": [
        "y.shape"
      ]
    },
    {
      "cell_type": "code",
      "execution_count": 32,
      "metadata": {
        "id": "H1cZBLbIK4Gu"
      },
      "outputs": [],
      "source": [
        "# Creating the model\n",
        "model = Sequential()\n",
        "model.add(LSTM(128, input_shape=(seq_len, len(character))))\n",
        "model.add(Dense(len(character)))\n",
        "model.add(Activation('softmax'))"
      ]
    },
    {
      "cell_type": "code",
      "execution_count": 49,
      "metadata": {
        "colab": {
          "base_uri": "https://localhost:8080/",
          "height": 694
        },
        "id": "4cNhwgjgK6lg",
        "outputId": "baa5451b-c466-4955-8303-84b4272c9b11"
      },
      "outputs": [
        {
          "name": "stdout",
          "output_type": "stream",
          "text": [
            "Model: \"sequential_1\"\n",
            "_________________________________________________________________\n",
            " Layer (type)                Output Shape              Param #   \n",
            "=================================================================\n",
            " lstm_1 (LSTM)               (None, 128)               103424    \n",
            "                                                                 \n",
            " dense_7 (Dense)             (None, 73)                9417      \n",
            "                                                                 \n",
            " activation_1 (Activation)   (None, 73)                0         \n",
            "                                                                 \n",
            "=================================================================\n",
            "Total params: 112841 (440.79 KB)\n",
            "Trainable params: 112841 (440.79 KB)\n",
            "Non-trainable params: 0 (0.00 Byte)\n",
            "_________________________________________________________________\n"
          ]
        }
      ],
      "source": [
        "model.summary()"
      ]
    },
    {
      "cell_type": "code",
      "execution_count": 34,
      "metadata": {
        "colab": {
          "base_uri": "https://localhost:8080/"
        },
        "id": "hCVujNNBK8ha",
        "outputId": "ed8fed2f-0fc1-4986-8087-a023059d3a5d"
      },
      "outputs": [
        {
          "name": "stdout",
          "output_type": "stream",
          "text": [
            "Epoch 1/30\n",
            "1501/1501 [==============================] - 109s 70ms/step - loss: 2.0399 - accuracy: 0.4024 - val_loss: 2.2584 - val_accuracy: 0.3716\n",
            "Epoch 2/30\n",
            "1501/1501 [==============================] - 121s 80ms/step - loss: 1.6691 - accuracy: 0.4994 - val_loss: 2.0905 - val_accuracy: 0.4175\n",
            "Epoch 3/30\n",
            "1501/1501 [==============================] - 103s 69ms/step - loss: 1.5468 - accuracy: 0.5325 - val_loss: 2.0341 - val_accuracy: 0.4273\n",
            "Epoch 4/30\n",
            "1501/1501 [==============================] - 104s 69ms/step - loss: 1.4827 - accuracy: 0.5517 - val_loss: 1.9255 - val_accuracy: 0.4562\n",
            "Epoch 5/30\n",
            "1501/1501 [==============================] - 106s 71ms/step - loss: 1.4411 - accuracy: 0.5616 - val_loss: 1.8900 - val_accuracy: 0.4799\n",
            "Epoch 6/30\n",
            "1501/1501 [==============================] - 100s 67ms/step - loss: 1.4104 - accuracy: 0.5704 - val_loss: 1.9379 - val_accuracy: 0.4737\n",
            "Epoch 7/30\n",
            "1501/1501 [==============================] - 101s 67ms/step - loss: 1.3883 - accuracy: 0.5756 - val_loss: 1.9066 - val_accuracy: 0.4613\n",
            "Epoch 8/30\n",
            "1501/1501 [==============================] - 108s 72ms/step - loss: 1.3710 - accuracy: 0.5810 - val_loss: 1.9294 - val_accuracy: 0.4655\n",
            "Epoch 9/30\n",
            "1501/1501 [==============================] - 104s 69ms/step - loss: 1.3565 - accuracy: 0.5844 - val_loss: 1.8783 - val_accuracy: 0.4907\n",
            "Epoch 10/30\n",
            "1501/1501 [==============================] - 93s 62ms/step - loss: 1.3450 - accuracy: 0.5880 - val_loss: 1.9238 - val_accuracy: 0.4923\n",
            "Epoch 11/30\n",
            "1501/1501 [==============================] - 97s 64ms/step - loss: 1.3341 - accuracy: 0.5915 - val_loss: 1.9354 - val_accuracy: 0.4830\n",
            "Epoch 12/30\n",
            "1501/1501 [==============================] - 104s 69ms/step - loss: 1.3250 - accuracy: 0.5933 - val_loss: 1.9029 - val_accuracy: 0.4856\n",
            "Epoch 13/30\n",
            "1501/1501 [==============================] - 102s 68ms/step - loss: 1.3167 - accuracy: 0.5947 - val_loss: 1.9351 - val_accuracy: 0.4722\n",
            "Epoch 14/30\n",
            "1501/1501 [==============================] - 104s 69ms/step - loss: 1.3101 - accuracy: 0.5969 - val_loss: 1.9550 - val_accuracy: 0.4696\n",
            "Epoch 15/30\n",
            "1501/1501 [==============================] - 106s 71ms/step - loss: 1.3036 - accuracy: 0.5980 - val_loss: 1.9594 - val_accuracy: 0.4845\n",
            "Epoch 16/30\n",
            "1501/1501 [==============================] - 103s 68ms/step - loss: 1.2976 - accuracy: 0.5996 - val_loss: 1.9380 - val_accuracy: 0.4814\n",
            "Epoch 17/30\n",
            "1501/1501 [==============================] - 244s 162ms/step - loss: 1.2921 - accuracy: 0.6020 - val_loss: 1.9500 - val_accuracy: 0.4918\n",
            "Epoch 18/30\n",
            "1501/1501 [==============================] - 241s 160ms/step - loss: 1.2866 - accuracy: 0.6021 - val_loss: 2.0047 - val_accuracy: 0.4737\n",
            "Epoch 19/30\n",
            "1501/1501 [==============================] - 240s 160ms/step - loss: 1.2810 - accuracy: 0.6042 - val_loss: 1.9546 - val_accuracy: 0.4840\n",
            "Epoch 20/30\n",
            "1501/1501 [==============================] - 245s 164ms/step - loss: 1.2761 - accuracy: 0.6049 - val_loss: 1.9665 - val_accuracy: 0.4907\n",
            "Epoch 21/30\n",
            "1501/1501 [==============================] - 114s 76ms/step - loss: 1.2729 - accuracy: 0.6057 - val_loss: 2.0054 - val_accuracy: 0.4861\n",
            "Epoch 22/30\n",
            "1501/1501 [==============================] - 98s 65ms/step - loss: 1.2708 - accuracy: 0.6068 - val_loss: 2.0070 - val_accuracy: 0.4820\n",
            "Epoch 23/30\n",
            "1501/1501 [==============================] - 101s 68ms/step - loss: 1.2662 - accuracy: 0.6088 - val_loss: 1.9989 - val_accuracy: 0.4814\n",
            "Epoch 24/30\n",
            "1501/1501 [==============================] - 120s 80ms/step - loss: 1.2625 - accuracy: 0.6092 - val_loss: 1.9978 - val_accuracy: 0.4892\n",
            "Epoch 25/30\n",
            "1501/1501 [==============================] - 123s 82ms/step - loss: 1.2608 - accuracy: 0.6089 - val_loss: 2.0300 - val_accuracy: 0.4825\n",
            "Epoch 26/30\n",
            "1501/1501 [==============================] - 118s 79ms/step - loss: 1.2559 - accuracy: 0.6105 - val_loss: 2.0414 - val_accuracy: 0.4794\n",
            "Epoch 27/30\n",
            "1501/1501 [==============================] - 120s 80ms/step - loss: 1.2545 - accuracy: 0.6112 - val_loss: 2.0190 - val_accuracy: 0.4825\n",
            "Epoch 28/30\n",
            "1501/1501 [==============================] - 119s 79ms/step - loss: 1.2500 - accuracy: 0.6124 - val_loss: 1.9863 - val_accuracy: 0.4902\n",
            "Epoch 29/30\n",
            "1501/1501 [==============================] - 119s 79ms/step - loss: 1.2472 - accuracy: 0.6122 - val_loss: 2.0556 - val_accuracy: 0.4928\n",
            "Epoch 30/30\n",
            "1501/1501 [==============================] - 120s 80ms/step - loss: 1.2444 - accuracy: 0.6138 - val_loss: 1.9931 - val_accuracy: 0.4979\n"
          ]
        }
      ],
      "source": [
        "# Training our model\n",
        "optimizer = RMSprop(learning_rate=0.01)\n",
        "model.compile(loss='categorical_crossentropy', optimizer=optimizer, metrics=['accuracy'])\n",
        "history = model.fit(X, y,\n",
        "                    validation_split=0.01, \n",
        "                    batch_size=128,\n",
        "                    epochs=30, \n",
        "                    shuffle=True).history"
      ]
    },
    {
      "cell_type": "code",
      "execution_count": 35,
      "metadata": {
        "id": "e_ynLnWILBCJ"
      },
      "outputs": [
        {
          "name": "stderr",
          "output_type": "stream",
          "text": [
            "c:\\Users\\Ajay Kumar\\AppData\\Local\\Programs\\Python\\Python310\\lib\\site-packages\\keras\\src\\engine\\training.py:3000: UserWarning: You are saving your model as an HDF5 file via `model.save()`. This file format is considered legacy. We recommend using instead the native Keras format, e.g. `model.save('my_model.keras')`.\n",
            "  saving_api.save_model(\n"
          ]
        }
      ],
      "source": [
        "#saving our model\n",
        "model.save('keras_model.h5')\n",
        "pickle.dump(history, open(\"history.p\", \"wb\"))"
      ]
    },
    {
      "cell_type": "code",
      "execution_count": 36,
      "metadata": {
        "id": "C0Bp_9b0LEjR"
      },
      "outputs": [],
      "source": [
        "#loading our model\n",
        "model = load_model('keras_model.h5')\n",
        "history = pickle.load(open(\"history.p\", \"rb\"))"
      ]
    },
    {
      "cell_type": "code",
      "execution_count": 37,
      "metadata": {
        "colab": {
          "base_uri": "https://localhost:8080/"
        },
        "id": "78UEYi7oLgj6",
        "outputId": "0d02c68e-9334-49b6-c57c-a9cb0d9425a1"
      },
      "outputs": [
        {
          "name": "stdout",
          "output_type": "stream",
          "text": [
            "6061/6061 [==============================] - 72s 12ms/step - loss: 1.2115 - accuracy: 0.6221\n",
            "Test Loss 1.211517333984375\n",
            "Test Accuracy 0.6220881938934326\n"
          ]
        }
      ],
      "source": [
        "#Model Evaluation\n",
        "loss_and_acc=model.evaluate(X,y)\n",
        "print(\"Test Loss\", loss_and_acc[0])\n",
        "print(\"Test Accuracy\", loss_and_acc[1])"
      ]
    },
    {
      "cell_type": "code",
      "execution_count": 38,
      "metadata": {
        "colab": {
          "base_uri": "https://localhost:8080/",
          "height": 234
        },
        "id": "ZFRh-dNiLkPR",
        "outputId": "7d46a8b1-6073-45bd-dd9a-586c4c91da53"
      },
      "outputs": [
        {
          "data": {
            "image/png": "[encoded data removed]",
            "text/plain": [
              "<Figure size 2000x600 with 2 Axes>"
            ]
          },
          "metadata": {},
          "output_type": "display_data"
        }
      ],
      "source": [
        "acc = history['accuracy']\n",
        "val_acc = history['val_accuracy']\n",
        "loss = history['loss']\n",
        "val_loss = history['val_loss']\n",
        "epochs = range(len(acc))\n",
        "\n",
        "\n",
        "\n",
        "fig, ax = plt.subplots(nrows=1, ncols=2, figsize=(20, 6))\n",
        "ax[0].plot(epochs, acc, 'r', label='Training accuracy')\n",
        "ax[0].plot(epochs, val_acc, 'b', label='Validation accuracy')\n",
        "ax[0].legend(loc=0)\n",
        "ax[1].plot(epochs, loss, 'r', label='Training loss')\n",
        "ax[1].plot(epochs, val_loss, 'b', label='Validation loss')\n",
        "ax[1].legend(loc=0)\n",
        "\n",
        "plt.suptitle('Training and validation')\n",
        "plt.show()"
      ]
    },
    {
      "cell_type": "code",
      "execution_count": 39,
      "metadata": {
        "id": "0Vv8f8hALmMI"
      },
      "outputs": [
        {
          "data": {
            "text/plain": [
              "array([[[0., 0., 0., ..., 0., 0., 0.],\n",
              "        [0., 0., 0., ..., 0., 0., 0.],\n",
              "        [0., 0., 0., ..., 0., 0., 0.],\n",
              "        ...,\n",
              "        [0., 0., 0., ..., 0., 0., 0.],\n",
              "        [0., 0., 0., ..., 0., 0., 0.],\n",
              "        [0., 0., 0., ..., 0., 0., 0.]]])"
            ]
          },
          "execution_count": 39,
          "metadata": {},
          "output_type": "execute_result"
        }
      ],
      "source": [
        "def prepare_input(text):\n",
        "    x = np.zeros((1, seq_len, len(character)))\n",
        "    for t, char in enumerate(text):\n",
        "        x[0, t, char_indices[char]] = 1.\n",
        "        \n",
        "    return x\n",
        "\n",
        "prepare_input(\"This is an example of input of our model\".lower())"
      ]
    },
    {
      "cell_type": "code",
      "execution_count": 40,
      "metadata": {
        "id": "HVvDE90ALnit"
      },
      "outputs": [],
      "source": [
        "#functions to get next probable characters\n",
        "def sample(preds, top_n=3):\n",
        "    preds = np.asarray(preds).astype('float64')\n",
        "    preds = np.log(preds)\n",
        "    exp_preds = np.exp(preds)\n",
        "    preds = exp_preds / np.sum(exp_preds)\n",
        "    \n",
        "    return heapq.nlargest(top_n, range(len(preds)), preds.take)"
      ]
    },
    {
      "cell_type": "code",
      "execution_count": 41,
      "metadata": {
        "id": "kjgq7ITcLtbF"
      },
      "outputs": [],
      "source": [
        "def predict_completion(text):\n",
        "    original_text = text\n",
        "    generated = text\n",
        "    completion = ''\n",
        "    while True:\n",
        "        x = prepare_input(text)\n",
        "        preds = model.predict(x, verbose=0)[0]\n",
        "        next_index = sample(preds, top_n=1)[0]\n",
        "        next_char = indices_char[next_index]\n",
        "        text = text[1:] + next_char\n",
        "        completion += next_char\n",
        "        \n",
        "        if len(original_text + completion) + 2 > len(original_text) and next_char == ' ':\n",
        "            return completion"
      ]
    },
    {
      "cell_type": "code",
      "execution_count": 42,
      "metadata": {
        "id": "CDkk2u2kLvL0"
      },
      "outputs": [],
      "source": [
        "def predict_completions(text, n=3):\n",
        "    x = prepare_input(text)\n",
        "    preds = model.predict(x, verbose=0)[0]\n",
        "    next_indices = sample(preds, n)\n",
        "    return [indices_char[idx] + predict_completion(text[1:] + indices_char[idx]) for idx in next_indices]"
      ]
    },
    {
      "cell_type": "code",
      "execution_count": 43,
      "metadata": {
        "id": "OfUFd-ErLwxl"
      },
      "outputs": [],
      "source": [
        "#Prediction\n",
        "quotes = [   \n",
        "    \"Deep learning is subset of machine learning,which is essentially a neural network with three or more layers.\",\n",
        "    \"Machine learning  is the study of computer algorithms that improve automatically through experience and by the use of data.\",\n",
        "    \"It is not a lack of love, but a lack of friendship that makes unhappy marriages.\",\n",
        "    \"Recurrent neural network (RNN) is a type of artificial neural network which uses sequential data or time series data.\",\n",
        "    \"Thanks for spending your precious time to view my work.\"  \n",
        "    \n",
        "]"
      ]
    },
    {
      "cell_type": "code",
      "execution_count": 44,
      "metadata": {
        "colab": {
          "base_uri": "https://localhost:8080/"
        },
        "id": "_likvI6pLzka",
        "outputId": "772b1fd3-5fbf-423f-c2c9-1ab9f2f38eb2"
      },
      "outputs": [
        {
          "name": "stdout",
          "output_type": "stream",
          "text": [
            "deep learning is subset of machine learn\n",
            "['er ', ' to ', 'ing ', 'ot ', ', ']\n",
            "\n",
            "machine learning  is the study of comput\n",
            "['ion ', 'eless ', ' of ', 'aire ', '\\nthe ']\n",
            "\n",
            "it is not a lack of love, but a lack of \n",
            "['the ', 'montyd ', 'a ', 'her ', 'some ']\n",
            "\n",
            "recurrent neural network (rnn) is a type\n",
            "['wrealy ', 'r ', 'or. ', 'ar ', 'perty ']\n",
            "\n",
            "thanks for spending your precious time t\n",
            "['hat ', 'o ', 'rade ', 'ell ', 'ake ']\n",
            "\n"
          ]
        }
      ],
      "source": [
        "for q in quotes:\n",
        "    seq = q[:40].lower()\n",
        "    print(seq)\n",
        "    print(predict_completions(seq, 5))\n",
        "    print()"
      ]
    }
  ],
  "metadata": {
    "accelerator": "TPU",
    "colab": {
      "collapsed_sections": [],
      "name": "Next Word Prediction",
      "provenance": []
    },
    "kernelspec": {
      "display_name": "Python 3",
      "name": "python3"
    },
    "language_info": {
      "codemirror_mode": {
        "name": "ipython",
        "version": 3
      },
      "file_extension": ".py",
      "mimetype": "text/x-python",
      "name": "python",
      "nbconvert_exporter": "python",
      "pygments_lexer": "ipython3",
      "version": "3.10.1"
    }
  },
  "nbformat": 4,
  "nbformat_minor": 0
}
